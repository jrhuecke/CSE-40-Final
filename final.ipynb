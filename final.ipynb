{
 "cells": [
  {
   "cell_type": "markdown",
   "id": "geographic-watershed",
   "metadata": {},
   "source": [
    "# CSE 40 Take-Home Final: jrhuecke\n",
    "\n",
    "Your unique dataset consists of physiochemical properties of a selection of Portuguese Vinho Verde wines.\n",
    "\n",
    "Some wines are red, some are white. A boolean label for high-quality white wines has been provided.\n",
    "\n",
    "You are free to use any library code provided within the `cse40` conda environment."
   ]
  },
  {
   "cell_type": "code",
   "execution_count": 1007,
   "id": "after-democrat",
   "metadata": {},
   "outputs": [
    {
     "data": {
      "text/html": [
       "<div>\n",
       "<style scoped>\n",
       "    .dataframe tbody tr th:only-of-type {\n",
       "        vertical-align: middle;\n",
       "    }\n",
       "\n",
       "    .dataframe tbody tr th {\n",
       "        vertical-align: top;\n",
       "    }\n",
       "\n",
       "    .dataframe thead th {\n",
       "        text-align: right;\n",
       "    }\n",
       "</style>\n",
       "<table border=\"1\" class=\"dataframe\">\n",
       "  <thead>\n",
       "    <tr style=\"text-align: right;\">\n",
       "      <th></th>\n",
       "      <th>chlorides</th>\n",
       "      <th>fixed acidity</th>\n",
       "      <th>pH</th>\n",
       "      <th>sulphates</th>\n",
       "      <th>volatile acidity</th>\n",
       "      <th>quality white</th>\n",
       "    </tr>\n",
       "  </thead>\n",
       "  <tbody>\n",
       "    <tr>\n",
       "      <th>0</th>\n",
       "      <td>0.048 g(sodium chloride)/dm^3</td>\n",
       "      <td>8.4 g(tartaric acid)/dm^3</td>\n",
       "      <td>3.40</td>\n",
       "      <td>0.46 g(potassium sulphate)/dm^3</td>\n",
       "      <td>0.28 g(acetic acid)/dm^3</td>\n",
       "      <td>False</td>\n",
       "    </tr>\n",
       "    <tr>\n",
       "      <th>1</th>\n",
       "      <td>0.073 g(sodium chloride)/dm^3</td>\n",
       "      <td>6.9 g(tartaric acid)/dm^3</td>\n",
       "      <td>3.45</td>\n",
       "      <td>0.52 g(potassium sulphate)/dm^3</td>\n",
       "      <td>0.605 g(acetic acid)/dm^3</td>\n",
       "      <td>False</td>\n",
       "    </tr>\n",
       "    <tr>\n",
       "      <th>2</th>\n",
       "      <td>0.092 g(sodium chloride)/dm^3</td>\n",
       "      <td>8.8 g(tartaric acid)/dm^3</td>\n",
       "      <td>3.19</td>\n",
       "      <td>0.52 g(potassium sulphate)/dm^3</td>\n",
       "      <td>0.42 g(acetic acid)/dm^3</td>\n",
       "      <td>False</td>\n",
       "    </tr>\n",
       "    <tr>\n",
       "      <th>3</th>\n",
       "      <td>0.031 g(sodium chloride)/dm^3</td>\n",
       "      <td>6.6 g(tartaric acid)/dm^3</td>\n",
       "      <td>3.17</td>\n",
       "      <td>0.58 g(potassium sulphate)/dm^3</td>\n",
       "      <td>0.17 g(acetic acid)/dm^3</td>\n",
       "      <td>True</td>\n",
       "    </tr>\n",
       "    <tr>\n",
       "      <th>4</th>\n",
       "      <td>0.076 g(sodium chloride)/dm^3</td>\n",
       "      <td>8.3 g(tartaric acid)/dm^3</td>\n",
       "      <td>3.26</td>\n",
       "      <td>0.7 g(potassium sulphate)/dm^3</td>\n",
       "      <td>0.26 g(acetic acid)/dm^3</td>\n",
       "      <td>False</td>\n",
       "    </tr>\n",
       "  </tbody>\n",
       "</table>\n",
       "</div>"
      ],
      "text/plain": [
       "                       chlorides              fixed acidity    pH  \\\n",
       "0  0.048 g(sodium chloride)/dm^3  8.4 g(tartaric acid)/dm^3  3.40   \n",
       "1  0.073 g(sodium chloride)/dm^3  6.9 g(tartaric acid)/dm^3  3.45   \n",
       "2  0.092 g(sodium chloride)/dm^3  8.8 g(tartaric acid)/dm^3  3.19   \n",
       "3  0.031 g(sodium chloride)/dm^3  6.6 g(tartaric acid)/dm^3  3.17   \n",
       "4  0.076 g(sodium chloride)/dm^3  8.3 g(tartaric acid)/dm^3  3.26   \n",
       "\n",
       "                         sulphates           volatile acidity  quality white  \n",
       "0  0.46 g(potassium sulphate)/dm^3   0.28 g(acetic acid)/dm^3          False  \n",
       "1  0.52 g(potassium sulphate)/dm^3  0.605 g(acetic acid)/dm^3          False  \n",
       "2  0.52 g(potassium sulphate)/dm^3   0.42 g(acetic acid)/dm^3          False  \n",
       "3  0.58 g(potassium sulphate)/dm^3   0.17 g(acetic acid)/dm^3           True  \n",
       "4   0.7 g(potassium sulphate)/dm^3   0.26 g(acetic acid)/dm^3          False  "
      ]
     },
     "execution_count": 1007,
     "metadata": {},
     "output_type": "execute_result"
    }
   ],
   "source": [
    "import re\n",
    "\n",
    "import numpy as np\n",
    "import pandas as pd\n",
    "\n",
    "from matplotlib import pyplot as plt\n",
    "\n",
    "from sklearn.model_selection import KFold, cross_val_score\n",
    "from sklearn.preprocessing import StandardScaler\n",
    "from scipy import stats\n",
    "\n",
    "# You may import sklearn models of your choosing. For example,\n",
    "from sklearn.linear_model import SGDClassifier\n",
    "from sklearn.tree import DecisionTreeClassifier\n",
    "from sklearn.neighbors import KNeighborsClassifier\n",
    "\n",
    "df = pd.read_csv('data.csv')\n",
    "\n",
    "df.head()"
   ]
  },
  {
   "cell_type": "code",
   "execution_count": 1008,
   "id": "funky-thursday",
   "metadata": {},
   "outputs": [
    {
     "name": "stdout",
     "output_type": "stream",
     "text": [
      "<class 'pandas.core.frame.DataFrame'>\n",
      "RangeIndex: 1000 entries, 0 to 999\n",
      "Data columns (total 6 columns):\n",
      " #   Column            Non-Null Count  Dtype  \n",
      "---  ------            --------------  -----  \n",
      " 0   chlorides         998 non-null    object \n",
      " 1   fixed acidity     1000 non-null   object \n",
      " 2   pH                1000 non-null   float64\n",
      " 3   sulphates         999 non-null    object \n",
      " 4   volatile acidity  1000 non-null   object \n",
      " 5   quality white     1000 non-null   bool   \n",
      "dtypes: bool(1), float64(1), object(4)\n",
      "memory usage: 40.2+ KB\n"
     ]
    }
   ],
   "source": [
    "df.info()"
   ]
  },
  {
   "cell_type": "markdown",
   "id": "immediate-picking",
   "metadata": {},
   "source": [
    "# Step 1\n",
    "I first cleaned up the data by extracting the important information out of each column so that every element is just a number and all the columns have type float. This allows for actual interpretation of the data later."
   ]
  },
  {
   "cell_type": "code",
   "execution_count": 1009,
   "id": "postal-wellington",
   "metadata": {},
   "outputs": [
    {
     "name": "stdout",
     "output_type": "stream",
     "text": [
      "<class 'pandas.core.frame.DataFrame'>\n",
      "RangeIndex: 1000 entries, 0 to 999\n",
      "Data columns (total 6 columns):\n",
      " #   Column            Non-Null Count  Dtype  \n",
      "---  ------            --------------  -----  \n",
      " 0   chlorides         998 non-null    float64\n",
      " 1   fixed acidity     1000 non-null   float64\n",
      " 2   pH                1000 non-null   float64\n",
      " 3   sulphates         999 non-null    float64\n",
      " 4   volatile acidity  1000 non-null   float64\n",
      " 5   quality white     1000 non-null   bool   \n",
      "dtypes: bool(1), float64(5)\n",
      "memory usage: 40.2 KB\n"
     ]
    }
   ],
   "source": [
    "def extract_first_number(source_str):\n",
    "    '''\n",
    "    extract the first numerical value appearing in a string\n",
    "    as a float and return it, allowing negative numbers and \n",
    "    decimal values\n",
    "    '''\n",
    "    \n",
    "    # `source_str` does not contain interpretable data\n",
    "    if pd.isna(source_str) or source_str.startswith('NA'):\n",
    "        \n",
    "        # use `np.nan` to represent missing data\n",
    "        return np.nan\n",
    "\n",
    "    # find instances of a valid numerical substrings in the source string\n",
    "    matches = re.search(r'-?\\d+\\.?\\d*', source_str.replace(',', ''))\n",
    "    \n",
    "    # if there are any valid numerical substrings\n",
    "    if matches:\n",
    "        return float(matches[0]) # convert the first one to a float and return the value\n",
    "    else:\n",
    "        return np.nan # otherwise, treat as missing data\n",
    "    \n",
    "def clean_elements(df, exclude_columns=[]):\n",
    "    '''\n",
    "    Converts the columns of a dataframe from strings containing numbers to\n",
    "    the first number appearing in each string.\n",
    "    \n",
    "    Args:\n",
    "        df: A pandas dataframe\n",
    "        exclude_columns: A list of columns that should not be converted\n",
    "        \n",
    "    Returns:\n",
    "        A pandas dataframe\n",
    "    '''\n",
    "    \n",
    "    #goes through each element in the dataset, replacing them with the 1st number in their string\n",
    "    for c in df.columns:\n",
    "        if c not in exclude_columns:\n",
    "            for i in df.index:\n",
    "                df.at[i, c] = extract_first_number(df.at[i,c])    \n",
    "        else:\n",
    "            pass\n",
    "        \n",
    "    return df\n",
    "\n",
    "\n",
    "df = clean_elements(df, ['pH', 'quality white'])\n",
    "\n",
    "#changing all the column types to float64\n",
    "df['chlorides'] = pd.to_numeric(df['chlorides'])\n",
    "df['fixed acidity'] = pd.to_numeric(df['fixed acidity'])\n",
    "df['sulphates'] = pd.to_numeric(df['sulphates'])\n",
    "df['volatile acidity'] = pd.to_numeric(df['volatile acidity'])\n",
    "df.info()"
   ]
  },
  {
   "cell_type": "markdown",
   "id": "prompt-handle",
   "metadata": {},
   "source": [
    "# Step 2\n",
    "I then got rid of all rows containing missing data. Given that this only sacrifices 3 of the 1000 rows, I feel like it was worth it simply for the ease of working with the dataset later."
   ]
  },
  {
   "cell_type": "code",
   "execution_count": 1010,
   "id": "gentle-prairie",
   "metadata": {},
   "outputs": [
    {
     "name": "stdout",
     "output_type": "stream",
     "text": [
      "<class 'pandas.core.frame.DataFrame'>\n",
      "Int64Index: 997 entries, 0 to 999\n",
      "Data columns (total 6 columns):\n",
      " #   Column            Non-Null Count  Dtype  \n",
      "---  ------            --------------  -----  \n",
      " 0   chlorides         997 non-null    float64\n",
      " 1   fixed acidity     997 non-null    float64\n",
      " 2   pH                997 non-null    float64\n",
      " 3   sulphates         997 non-null    float64\n",
      " 4   volatile acidity  997 non-null    float64\n",
      " 5   quality white     997 non-null    bool   \n",
      "dtypes: bool(1), float64(5)\n",
      "memory usage: 80.0 KB\n"
     ]
    }
   ],
   "source": [
    "def drop_na_rows(df):\n",
    "    '''\n",
    "    Args:\n",
    "        df: A pandas dataframe\n",
    "        \n",
    "    Returns:\n",
    "        The DataFrame with all rows that have missing data removed        \n",
    "    '''\n",
    "    \n",
    "    #iterates through each element in each row, dropping the row if there is missing data\n",
    "    for row in df.index:\n",
    "        for col in df.columns:\n",
    "            if(pd.isna(df.at[row, col])):\n",
    "                df = df.drop(index=[row])\n",
    "                break\n",
    "                \n",
    "    return df\n",
    "\n",
    "df = drop_na_rows(df)\n",
    "df.info()"
   ]
  },
  {
   "cell_type": "markdown",
   "id": "enabling-bailey",
   "metadata": {},
   "source": [
    "# Step 3\n",
    "Next, by using the corrwith pandas function I was able to find two columns (fixed acidity and pH) which have minimal impact on quality white. I dropped them to simplify the data set."
   ]
  },
  {
   "cell_type": "code",
   "execution_count": 1011,
   "id": "monetary-genetics",
   "metadata": {},
   "outputs": [
    {
     "name": "stdout",
     "output_type": "stream",
     "text": [
      "chlorides          -0.310717\n",
      "fixed acidity      -0.029779\n",
      "pH                 -0.059198\n",
      "sulphates          -0.199799\n",
      "volatile acidity   -0.463421\n",
      "quality white       1.000000\n",
      "dtype: float64\n"
     ]
    },
    {
     "data": {
      "text/html": [
       "<div>\n",
       "<style scoped>\n",
       "    .dataframe tbody tr th:only-of-type {\n",
       "        vertical-align: middle;\n",
       "    }\n",
       "\n",
       "    .dataframe tbody tr th {\n",
       "        vertical-align: top;\n",
       "    }\n",
       "\n",
       "    .dataframe thead th {\n",
       "        text-align: right;\n",
       "    }\n",
       "</style>\n",
       "<table border=\"1\" class=\"dataframe\">\n",
       "  <thead>\n",
       "    <tr style=\"text-align: right;\">\n",
       "      <th></th>\n",
       "      <th>chlorides</th>\n",
       "      <th>sulphates</th>\n",
       "      <th>volatile acidity</th>\n",
       "      <th>quality white</th>\n",
       "    </tr>\n",
       "  </thead>\n",
       "  <tbody>\n",
       "    <tr>\n",
       "      <th>0</th>\n",
       "      <td>0.048</td>\n",
       "      <td>0.46</td>\n",
       "      <td>0.280</td>\n",
       "      <td>False</td>\n",
       "    </tr>\n",
       "    <tr>\n",
       "      <th>1</th>\n",
       "      <td>0.073</td>\n",
       "      <td>0.52</td>\n",
       "      <td>0.605</td>\n",
       "      <td>False</td>\n",
       "    </tr>\n",
       "    <tr>\n",
       "      <th>2</th>\n",
       "      <td>0.092</td>\n",
       "      <td>0.52</td>\n",
       "      <td>0.420</td>\n",
       "      <td>False</td>\n",
       "    </tr>\n",
       "    <tr>\n",
       "      <th>3</th>\n",
       "      <td>0.031</td>\n",
       "      <td>0.58</td>\n",
       "      <td>0.170</td>\n",
       "      <td>True</td>\n",
       "    </tr>\n",
       "    <tr>\n",
       "      <th>4</th>\n",
       "      <td>0.076</td>\n",
       "      <td>0.70</td>\n",
       "      <td>0.260</td>\n",
       "      <td>False</td>\n",
       "    </tr>\n",
       "  </tbody>\n",
       "</table>\n",
       "</div>"
      ],
      "text/plain": [
       "   chlorides  sulphates  volatile acidity  quality white\n",
       "0      0.048       0.46             0.280          False\n",
       "1      0.073       0.52             0.605          False\n",
       "2      0.092       0.52             0.420          False\n",
       "3      0.031       0.58             0.170           True\n",
       "4      0.076       0.70             0.260          False"
      ]
     },
     "execution_count": 1011,
     "metadata": {},
     "output_type": "execute_result"
    }
   ],
   "source": [
    "print(df.corrwith(df['quality white'], axis = 0))\n",
    "df = df.drop(columns=['fixed acidity'])\n",
    "df = df.drop(columns=['pH'])\n",
    "df.head()"
   ]
  },
  {
   "cell_type": "markdown",
   "id": "blocked-italian",
   "metadata": {},
   "source": [
    "# Step 4\n",
    "At this point I wanted to actually check the balance of the data between quality/not-quality. It ended up being fairly even with 47% being True so I was happy with that."
   ]
  },
  {
   "cell_type": "code",
   "execution_count": 1012,
   "id": "moved-valve",
   "metadata": {},
   "outputs": [
    {
     "name": "stdout",
     "output_type": "stream",
     "text": [
      "True: 476 False: 521\n",
      "Percent Quality: 47.7432296890672\n"
     ]
    }
   ],
   "source": [
    "false = 0\n",
    "true = 0\n",
    "#going through each element in the row 'quality white' counting the true/false\n",
    "for row in df.index:\n",
    "    if (df.at[row, 'quality white'] == True):\n",
    "        true += 1\n",
    "    else:\n",
    "        false += 1\n",
    "\n",
    "print(\"True:\", true, \"False:\", false)\n",
    "print(\"Percent Quality:\", 100 * true/997)"
   ]
  },
  {
   "cell_type": "markdown",
   "id": "executive-automation",
   "metadata": {},
   "source": [
    "# Step 5\n",
    "To further my understanding of the data, I used Matplotlib to make some graphs comparing some of the columns. I focused mostly on the relationship between volatile acidity with other columns because that was the feature shown to have the greatest negative connotation to quality white in Step 3. \n",
    "\n",
    "The blue graph comparing volatile acidity to chlorides shows that as volatile acidity increases, chlorides also slightly increases, but it also shows that there were some pretty extreme chlorides outliers which I ended up removing in the next step. \n",
    "\n",
    "The red graph comparing volatile acidity to quality white was pretty inline with what corrwith showed in Step 3. The higher volatile acidity is, the greater chance of quality white being false. \n",
    "\n",
    "The last graph which plots the relation between sulphates and quality white shows that while there is slight negative correlation, sulphates does not have too much impact on quality white being true. This also lines up with what was found in Step 3."
   ]
  },
  {
   "cell_type": "code",
   "execution_count": 1013,
   "id": "julian-synthesis",
   "metadata": {},
   "outputs": [
    {
     "data": {
      "image/png": "[encoded data removed]",
      "text/plain": [
       "<Figure size 432x288 with 1 Axes>"
      ]
     },
     "metadata": {
      "needs_background": "light"
     },
     "output_type": "display_data"
    },
    {
     "data": {
      "image/png": "[encoded data removed]",
      "text/plain": [
       "<Figure size 432x288 with 1 Axes>"
      ]
     },
     "metadata": {
      "needs_background": "light"
     },
     "output_type": "display_data"
    },
    {
     "data": {
      "image/png": "[encoded data removed]",
      "text/plain": [
       "<Figure size 432x288 with 1 Axes>"
      ]
     },
     "metadata": {
      "needs_background": "light"
     },
     "output_type": "display_data"
    }
   ],
   "source": [
    "#Making 1st graph\n",
    "fig = plt.figure()\n",
    "ax1 = fig.add_subplot(111)\n",
    "\n",
    "\n",
    "ax1.set_xlabel('volatile acidity')\n",
    "ax1.set_ylabel('chlorides')\n",
    "\n",
    "ax1.scatter(df['volatile acidity'], df['chlorides'], s=4, c='b', alpha=0.5, label='volatile acidity x chlorides')\n",
    "\n",
    "plt.legend();\n",
    "plt.show()\n",
    "\n",
    "#Making 2nd graph\n",
    "fig = plt.figure()\n",
    "ax2 = fig.add_subplot(111)\n",
    "\n",
    "ax2.set_xlabel('volatile acidity')\n",
    "ax2.set_ylabel('quality white')\n",
    "\n",
    "ax2.scatter(df['volatile acidity'], df['quality white'], s=4, c='r', alpha=0.5, label='volatile acidity x quality white')\n",
    "\n",
    "plt.legend();\n",
    "plt.show()\n",
    "\n",
    "#Making 3rd graph\n",
    "fig = plt.figure()\n",
    "ax3 = fig.add_subplot(111)\n",
    "\n",
    "\n",
    "ax3.set_xlabel('sulphates')\n",
    "ax3.set_ylabel('quality white')\n",
    "\n",
    "ax3.scatter(df['sulphates'], df['quality white'], s=4, c='g', alpha=0.5, label='sulphates x quality white')\n",
    "\n",
    "plt.legend();\n",
    "plt.show()"
   ]
  },
  {
   "cell_type": "markdown",
   "id": "expanded-houston",
   "metadata": {},
   "source": [
    "# Step 6\n",
    "To make the data set even better, I got rid of the rows containing more extreme chloride outliers based on what was found in the previous step. This ended up removing 5 more rows, but since those rows contained major outliers I figured it would worth it to get rid of them. I also redid the volatile acidity x chlorides graph and this time around it is much easier to see that on average chlorides increase when volatile acidity increases or vice versa."
   ]
  },
  {
   "cell_type": "code",
   "execution_count": 1014,
   "id": "broken-dancing",
   "metadata": {},
   "outputs": [
    {
     "name": "stdout",
     "output_type": "stream",
     "text": [
      "<class 'pandas.core.frame.DataFrame'>\n",
      "Int64Index: 992 entries, 0 to 999\n",
      "Data columns (total 4 columns):\n",
      " #   Column            Non-Null Count  Dtype  \n",
      "---  ------            --------------  -----  \n",
      " 0   chlorides         992 non-null    float64\n",
      " 1   sulphates         992 non-null    float64\n",
      " 2   volatile acidity  992 non-null    float64\n",
      " 3   quality white     992 non-null    bool   \n",
      "dtypes: bool(1), float64(3)\n",
      "memory usage: 64.3 KB\n"
     ]
    },
    {
     "data": {
      "image/png": "[encoded data removed]",
      "text/plain": [
       "<Figure size 432x288 with 1 Axes>"
      ]
     },
     "metadata": {
      "needs_background": "light"
     },
     "output_type": "display_data"
    }
   ],
   "source": [
    "for row in df.index:\n",
    "    if (df.at[row, 'chlorides'] > 0.3):\n",
    "        df = df.drop(index=[row])\n",
    "df.info()\n",
    "\n",
    "#Making 1st graph\n",
    "fig = plt.figure()\n",
    "ax1 = fig.add_subplot(111)\n",
    "\n",
    "\n",
    "ax1.set_xlabel('volatile acidity')\n",
    "ax1.set_ylabel('chlorides')\n",
    "\n",
    "ax1.scatter(df['volatile acidity'], df['chlorides'], s=4, c='b', alpha=0.5, label='volatile acidity x chlorides')\n",
    "\n",
    "plt.legend();\n",
    "plt.show()\n"
   ]
  },
  {
   "cell_type": "markdown",
   "id": "antique-skiing",
   "metadata": {},
   "source": [
    "# Step 7\n",
    "At this point I actually started testing models on the data. Below defines the function for doing K Fold Validations that returns test scores for 3 different models. When using a K value of 5 the Decision Tree model has the highest accuracy on average, but the Linear model ends up having a pretty extreme outlier giving it a very large standard deviation. So I redid the K Fold Validation with a K value of 6 in hopes of getting some better averages across the board which ended up being somewhat succesful! The Linear model's average score shot up a good bit with the other two model's scores on being slightly affected. Because of that I decided to use k=6 for future steps to have a better comparison between the models."
   ]
  },
  {
   "cell_type": "code",
   "execution_count": 1015,
   "id": "referenced-commerce",
   "metadata": {},
   "outputs": [
    {
     "name": "stdout",
     "output_type": "stream",
     "text": [
      "Scores using k=5:\n",
      "linear [0.16494845 0.74626866 0.73417722 0.70873786 0.76470588]\n",
      "Average: 0.6237676143890301  Standard Deviation: 0.23012837562052046\n",
      "\n",
      "tree [0.71186441 0.6440678  0.74747475 0.75789474 0.78787879]\n",
      "Average: 0.7298360951170941  Standard Deviation: 0.049288023344309206\n",
      "\n",
      "KNN [0.69148936 0.75117371 0.69950739 0.69565217 0.71428571]\n",
      "Average: 0.7104216695967269  Standard Deviation: 0.02177774714125065\n",
      "\n",
      "\n",
      "Scores using k=6:\n",
      "linear [0.4957265  0.6993007  0.75       0.76777251 0.72826087 0.69879518]\n",
      "Average: 0.6899759595272742  Standard Deviation: 0.09038667577465773\n",
      "\n",
      "tree [0.73825503 0.71856287 0.73684211 0.69512195 0.74172185 0.7375    ]\n",
      "Average: 0.7280006364326416  Standard Deviation: 0.016491984193710053\n",
      "\n",
      "KNN [0.71794872 0.74576271 0.78409091 0.72727273 0.75471698 0.6835443 ]\n",
      "Average: 0.7355560585177175  Standard Deviation: 0.03138684197675111\n",
      "\n"
     ]
    }
   ],
   "source": [
    "#defining the models\n",
    "linear_model = SGDClassifier(\n",
    "    loss='log',\n",
    "    random_state=0\n",
    ")\n",
    "tree_model = DecisionTreeClassifier(\n",
    "    criterion='entropy',\n",
    "    max_depth=3,\n",
    "    random_state=0\n",
    ")\n",
    "knn_model = KNeighborsClassifier(\n",
    "    n_neighbors=5\n",
    ")\n",
    "\n",
    "models = {\n",
    "    'linear': linear_model,\n",
    "    'tree': tree_model, \n",
    "    'KNN': knn_model\n",
    "}\n",
    "\n",
    "#picking the features to do the K Fold Validation on\n",
    "features = ['chlorides', 'sulphates', 'volatile acidity']\n",
    "label = ['quality white']\n",
    "\n",
    "X, y = df[features], df[label] > 0\n",
    "\n",
    "def K_Fold_Validate(models, kf, X, y):\n",
    "    # flatten the pandas Series to a simple numpy array\n",
    "    # so sklearn doesn't complain about column vectors\n",
    "    y = y.to_numpy().ravel() \n",
    "    \n",
    "    # initialize dictionary to hold scores\n",
    "    scores = {}\n",
    "    \n",
    "    #calls cross_validate for each model\n",
    "    for name in models:\n",
    "        scores[name] = cross_val_score(models[name], X, y, scoring='f1', cv=kf)\n",
    "        \n",
    "    return scores\n",
    "\n",
    "#Computing/printing the scores for k=5\n",
    "k = 5\n",
    "kf = KFold(k)\n",
    "\n",
    "print(\"Scores using k=5:\")\n",
    "scores = K_Fold_Validate(models, kf, X, y)\n",
    "for k, v in scores.items():\n",
    "    print(k, v)\n",
    "    print('Average:', v.mean(axis=0), ' Standard Deviation:', v.std(axis=0))\n",
    "    print()\n",
    "\n",
    "#Computing/printing the scores for k=6\n",
    "k = 6\n",
    "kf = KFold(k)\n",
    "\n",
    "print()\n",
    "print(\"Scores using k=6:\")\n",
    "scores = K_Fold_Validate(models, kf, X, y)\n",
    "for k, v in scores.items():\n",
    "    print(k, v)\n",
    "    print('Average:', v.mean(axis=0), ' Standard Deviation:', v.std(axis=0))\n",
    "    print()"
   ]
  },
  {
   "cell_type": "markdown",
   "id": "heard-namibia",
   "metadata": {},
   "source": [
    "# Step 8\n",
    "For the final step in the process, I calculated the p-value for each model and graphed the f1 score comparison using K Fold Cross Validation with k=6 because of the results in the previous step."
   ]
  },
  {
   "cell_type": "code",
   "execution_count": 1016,
   "id": "primary-medicare",
   "metadata": {},
   "outputs": [
    {
     "name": "stdout",
     "output_type": "stream",
     "text": [
      "prob. that avg. f1 score for linear and tree are the same: 0.13445890146330075\n",
      "prob. that avg. f1 score for linear and knn are the same: 0.3994389737744947\n",
      "prob. that avg. f1 score for knn and tree are the same: 0.6454027197782298\n"
     ]
    },
    {
     "data": {
      "image/png": "[encoded data removed]",
      "text/plain": [
       "<Figure size 432x288 with 1 Axes>"
      ]
     },
     "metadata": {
      "needs_background": "light"
     },
     "output_type": "display_data"
    }
   ],
   "source": [
    "def p_value(model1_scores, model2_scores):\n",
    "    '''\n",
    "    return probability of null hypothesis \n",
    "    (that points were sampled from same distribution)\n",
    "    '''\n",
    "    \n",
    "    t = 0\n",
    "    n = len(model1_scores)\n",
    "    \n",
    "    #solving for numerator\n",
    "    for i in range(n):\n",
    "        t += (1 / n) * (model1_scores[i] - model2_scores[i])\n",
    "    \n",
    "    #solving for denominator\n",
    "    s = 0\n",
    "    #caculate summation\n",
    "    for i in range(n):\n",
    "        s += (1 / n) * ((model1_scores[i] - model2_scores[i]) - t)**2  \n",
    "    s = np.sqrt(s)\n",
    "    s = s / np.sqrt(len(model1_scores) - 1)\n",
    "    t = t / s\n",
    "    \n",
    "    # compute the pvalue from a two-tailed t-statistic `t`\n",
    "    pval = stats.t.sf(np.abs(t), len(model1_scores)-1) * 2\n",
    "    \n",
    "    return pval\n",
    "\n",
    "linear_model = SGDClassifier(\n",
    "    loss='hinge',\n",
    "    penalty='l1',\n",
    "    random_state=0\n",
    ")\n",
    "tree_model = DecisionTreeClassifier(\n",
    "    criterion='entropy',\n",
    "    max_depth=3,\n",
    "    random_state=0\n",
    ")\n",
    "knn_model = KNeighborsClassifier(\n",
    "    n_neighbors=5\n",
    ")\n",
    "\n",
    "models = {\n",
    "    'linear': linear_model,\n",
    "    'tree': tree_model, \n",
    "    'knn': knn_model\n",
    "}\n",
    "\n",
    "features = [c for c in df.columns if c != 'quality white']\n",
    "label = ['quality white']\n",
    "\n",
    "X, y = df[features], df[label] > 0\n",
    "\n",
    "k = 6\n",
    "kf = KFold(k)\n",
    "\n",
    "scores = K_Fold_Validate(models, kf, X, y)\n",
    "\n",
    "\n",
    "def report(a, b):\n",
    "    pval = p_value(scores[a], scores[b])\n",
    "    print(f'prob. that avg. f1 score for {a} and {b} are the same:', pval)\n",
    "\n",
    "report('linear', 'tree')\n",
    "report('linear', 'knn')\n",
    "report('knn', 'tree')\n",
    "    \n",
    "# plot\n",
    "fig = plt.figure()\n",
    "fig.suptitle('f1 Score Comparison using K-Fold Cross-Validation')\n",
    "ax = fig.add_subplot(111)\n",
    "for i, (k, v) in enumerate(scores.items()):\n",
    "    ax.scatter(i * np.ones(len(v)) + 1, v, label=k, alpha=0.5)\n",
    "for i in range(len(scores['linear'])):\n",
    "    ax.plot([1, 2, 3], [scores[k][i] for k in scores.keys()], c='k', alpha=0.2)\n",
    "ax.boxplot(scores.values())\n",
    "plt.legend()\n",
    "plt.show()"
   ]
  },
  {
   "cell_type": "markdown",
   "id": "double-transcription",
   "metadata": {},
   "source": [
    "# Final Analysis\n",
    "Looking at the comparison between the average scores for each model it can be seen that K Nearest Neighbor and Decision Tree are the most similar by far. The Linear model has the lowest similarity with the other two models, which makes sense given that as seen in the results for Step 7, linear had a pretty weak first score.\n",
    "\n",
    "So in the end by looking at the results for Steps 7/8 it appears that there is a bit of a tie in preformance between Decision Tree and KNN. If k=5 then KNN has a higher average score than Linear, but when k=6 those positions swap. And the averages for both cases only have a difference of ~1. This change was done in the first place to dramatically alter the Linear models preformance so maybe if I had increase K by more than Linear would have appeared to be the best one. This shows K Fold Validation can produce vastly different results based on the k value so it is important to test the data with a couple different k values to make sure to get truly accurate scores.\n",
    "\n",
    "In the end I would probably decide on using the Decision Tree model for the dataset given its simplicity and how easy it is to understand."
   ]
  }
 ],
 "metadata": {
  "kernelspec": {
   "display_name": "Python 3",
   "language": "python",
   "name": "python3"
  },
  "language_info": {
   "codemirror_mode": {
    "name": "ipython",
    "version": 3
   },
   "file_extension": ".py",
   "mimetype": "text/x-python",
   "name": "python",
   "nbconvert_exporter": "python",
   "pygments_lexer": "ipython3",
   "version": "3.9.2"
  }
 },
 "nbformat": 4,
 "nbformat_minor": 5
}
